{
 "cells": [
  {
   "cell_type": "markdown",
   "metadata": {},
   "source": [
    "# Capstone Webscrapping using BeautifulSoup\n",
    "\n",
    "This notebook contains guidances & tasks on the data processing for the application\n",
    "\n",
    "## background\n",
    "\n",
    "(Please insert the background here )\n",
    "\n",
    "## Requesting the Data and Creating a BeautifulSoup\n",
    "\n",
    "Let's begin with requesting the web from the site with `get` method."
   ]
  },
  {
   "cell_type": "code",
   "execution_count": 2,
   "metadata": {
    "ExecuteTime": {
     "end_time": "2020-01-13T05:12:23.275508Z",
     "start_time": "2020-01-13T05:12:20.009898Z"
    }
   },
   "outputs": [],
   "source": [
    "import requests\n",
    "import pandas as pd\n",
    "from bs4 import BeautifulSoup\n",
    "import matplotlib.pyplot as plt\n",
    "from io import BytesIO\n",
    "import base64\n",
    "\n",
    "url_get = requests.get('https://www.exchange-rates.org/history/IDR/USD/T')\n"
   ]
  },
  {
   "cell_type": "markdown",
   "metadata": {},
   "source": [
    "To visualize what exactly you get from the `request.get`, we can use .content so ee what we exactly get, in here i slice it so it won't make our screen full of the html we get from the page. You can delete the slicing if you want to see what we fully get."
   ]
  },
  {
   "cell_type": "code",
   "execution_count": 3,
   "metadata": {
    "ExecuteTime": {
     "end_time": "2020-01-13T05:12:23.290648Z",
     "start_time": "2020-01-13T05:12:23.277650Z"
    }
   },
   "outputs": [
    {
     "data": {
      "text/plain": [
       "b'!DOCTYPE html>\\r\\n<!--[if lt IE 9]>\\r\\n<html class=\"no-js ie8 oldie\" lang=\"en\" xml:lang=\\'en\\'>\\r\\n<![endif]-->\\r\\n<!--[if gt IE 8]><!--><html class=\"no-js\" lang=\"en\" xml:lang=\\'en\\'><!--<![endif]-->\\r\\n<head>\\r\\n<title>Indonesian Rupiah Exchange Rate - US Dollar - Historical Exchange Rates</title>\\r\\n<meta http-equiv=\"X-UA-Compatible\" content=\"IE=edge\">\\r\\n<meta name=\"viewport\" content=\"width=device-width, initial-scale=1, maximum-scale=5\">\\r\\n<meta charset=\"utf-8\" /><meta http-equiv=\"Content-Type\" content=\"text/ht'"
      ]
     },
     "execution_count": 3,
     "metadata": {},
     "output_type": "execute_result"
    }
   ],
   "source": [
    "url_get.content[1:500]"
   ]
  },
  {
   "cell_type": "markdown",
   "metadata": {},
   "source": [
    "As we can see we get a very unstructured and complex html, which actually contains the codes needed to show the webpages on your web browser. But we as human still confused what and where we can use that piece of code, so here where we use the beautifulsoup. Beautiful soup class will result a beautifulsoup object. Beautiful Soup transforms a complex HTML document into a complex tree of Python objects. \n",
    "\n",
    "Let's make Beautiful soup object and feel free to explore the object here."
   ]
  },
  {
   "cell_type": "code",
   "execution_count": 4,
   "metadata": {
    "ExecuteTime": {
     "end_time": "2020-01-13T05:12:23.808122Z",
     "start_time": "2020-01-13T05:12:23.292610Z"
    }
   },
   "outputs": [],
   "source": [
    "from bs4 import BeautifulSoup \n",
    "\n",
    "soup = BeautifulSoup(url_get.content,\"html.parser\")"
   ]
  },
  {
   "cell_type": "markdown",
   "metadata": {},
   "source": [
    "## Finding the right key to scrap the data & Extracting the right information"
   ]
  },
  {
   "cell_type": "markdown",
   "metadata": {},
   "source": [
    "Find the key and put the key into the `.find()` Put all the exploring the right key at this cell. (please change this markdown with your explanation)"
   ]
  },
  {
   "cell_type": "code",
   "execution_count": 5,
   "metadata": {
    "ExecuteTime": {
     "end_time": "2020-01-13T05:12:23.878904Z",
     "start_time": "2020-01-13T05:12:23.854974Z"
    }
   },
   "outputs": [
    {
     "name": "stdout",
     "output_type": "stream",
     "text": [
      "div class=\"table-responsive\">\n",
      " <table class=\"table table-striped table-hover table-hover-solid-row table-simple history-data\">\n",
      "  <tbody>\n",
      "   <tr>\n",
      "    <td>\n",
      "     9/30/2022\n",
      "    </td>\n",
      "    <td>\n",
      "     Friday\n",
      "    </td>\n",
      "    <td>\n",
      "     <a href=\"/Rate/USD/IDR/9-30-2022\">\n",
      "      15,303.70000\n",
      "     </a>\n",
      "     IDR\n",
      "    </td>\n",
      "    <td class=\"text-narrow-screen-hidden\">\n",
      "     <a href=\"/Rate/USD/IDR/9-30-2022\">\n",
      "      USD IDR rate for 9/30/2022\n",
      "     </a>\n",
      "    </td>\n",
      "   </tr>\n",
      "   <tr>\n",
      "    <td>\n",
      "     9/29/2022\n",
      "    </td>\n",
      "    <\n"
     ]
    }
   ],
   "source": [
    "table = soup.find('div',attrs={'class':'table-responsive'})\n",
    "print(table.prettify()[1:500])"
   ]
  },
  {
   "cell_type": "markdown",
   "metadata": {},
   "source": [
    "Finding row length."
   ]
  },
  {
   "cell_type": "code",
   "execution_count": 8,
   "metadata": {},
   "outputs": [
    {
     "data": {
      "text/plain": [
       "130"
      ]
     },
     "execution_count": 8,
     "metadata": {},
     "output_type": "execute_result"
    }
   ],
   "source": [
    "row = table.find_all('tr')\n",
    "row_length = len(row)\n",
    "row_length"
   ]
  },
  {
   "cell_type": "markdown",
   "metadata": {},
   "source": [
    "Do the scrapping process here (please change this markdown with your explanation)"
   ]
  },
  {
   "cell_type": "code",
   "execution_count": 9,
   "metadata": {
    "ExecuteTime": {
     "end_time": "2020-01-13T05:12:24.008256Z",
     "start_time": "2020-01-13T05:12:23.980358Z"
    }
   },
   "outputs": [
    {
     "data": {
      "text/plain": [
       "[('15,187.20000', '9/29/2022'),\n",
       " ('15,175.25000', '9/28/2022'),\n",
       " ('15,171.70000', '9/27/2022'),\n",
       " ('15,190.70000', '9/26/2022'),\n",
       " ('15,112.36165', '9/23/2022'),\n",
       " ('15,026.65000', '9/22/2022'),\n",
       " ('15,039.10000', '9/21/2022'),\n",
       " ('15,017.60000', '9/20/2022'),\n",
       " ('14,985.85000', '9/19/2022'),\n",
       " ('14,999.20000', '9/16/2022'),\n",
       " ('14,942.60000', '9/15/2022'),\n",
       " ('14,910.50000', '9/14/2022'),\n",
       " ('14,967.30000', '9/13/2022'),\n",
       " ('14,860.60000', '9/12/2022'),\n",
       " ('14,836.30000', '9/9/2022'),\n",
       " ('14,894.20000', '9/8/2022'),\n",
       " ('14,908.30000', '9/7/2022'),\n",
       " ('14,900.50000', '9/6/2022'),\n",
       " ('14,889.50000', '9/5/2022'),\n",
       " ('14,892.30000', '9/2/2022'),\n",
       " ('14,902.15000', '9/1/2022'),\n",
       " ('14,848.70000', '8/31/2022'),\n",
       " ('14,851.00000', '8/30/2022'),\n",
       " ('14,886.25000', '8/29/2022'),\n",
       " ('14,829.95000', '8/26/2022'),\n",
       " ('14,774.80000', '8/25/2022'),\n",
       " ('14,836.40000', '8/24/2022'),\n",
       " ('14,851.40000', '8/23/2022'),\n",
       " ('14,910.85000', '8/22/2022'),\n",
       " ('14,875.40000', '8/19/2022'),\n",
       " ('14,849.35000', '8/18/2022'),\n",
       " ('14,770.20000', '8/17/2022'),\n",
       " ('14,749.60000', '8/16/2022'),\n",
       " ('14,776.45000', '8/15/2022'),\n",
       " ('14,661.07616', '8/12/2022'),\n",
       " ('14,732.30000', '8/11/2022'),\n",
       " ('14,766.50000', '8/10/2022'),\n",
       " ('14,860.00000', '8/9/2022'),\n",
       " ('14,831.25000', '8/8/2022'),\n",
       " ('14,946.00000', '8/5/2022'),\n",
       " ('14,889.80000', '8/4/2022'),\n",
       " ('14,886.30000', '8/3/2022'),\n",
       " ('14,895.10000', '8/2/2022'),\n",
       " ('14,840.98333', '8/1/2022'),\n",
       " ('14,815.40000', '7/29/2022'),\n",
       " ('14,849.65000', '7/28/2022'),\n",
       " ('14,920.70000', '7/27/2022'),\n",
       " ('14,990.25000', '7/26/2022'),\n",
       " ('14,969.70000', '7/25/2022'),\n",
       " ('14,978.00000', '7/22/2022'),\n",
       " ('15,015.55000', '7/21/2022'),\n",
       " ('14,976.15000', '7/20/2022'),\n",
       " ('14,960.85000', '7/19/2022'),\n",
       " ('14,981.10000', '7/18/2022'),\n",
       " ('14,996.35000', '7/15/2022'),\n",
       " ('15,045.60000', '7/14/2022'),\n",
       " ('15,030.45000', '7/13/2022'),\n",
       " ('14,984.00000', '7/12/2022'),\n",
       " ('15,010.52059', '7/11/2022'),\n",
       " ('14,976.95000', '7/8/2022'),\n",
       " ('14,964.65000', '7/7/2022'),\n",
       " ('14,996.82520', '7/6/2022'),\n",
       " ('15,014.65000', '7/5/2022'),\n",
       " ('14,994.55000', '7/4/2022'),\n",
       " ('14,975.15000', '7/1/2022'),\n",
       " ('14,928.80000', '6/30/2022'),\n",
       " ('14,868.90000', '6/29/2022'),\n",
       " ('14,852.35000', '6/28/2022'),\n",
       " ('14,807.70000', '6/27/2022'),\n",
       " ('14,829.50000', '6/24/2022'),\n",
       " ('14,848.80000', '6/23/2022'),\n",
       " ('14,833.90000', '6/22/2022'),\n",
       " ('14,833.60000', '6/21/2022'),\n",
       " ('14,827.75000', '6/20/2022'),\n",
       " ('14,838.85000', '6/17/2022'),\n",
       " ('14,809.20000', '6/16/2022'),\n",
       " ('14,695.10000', '6/15/2022'),\n",
       " ('14,764.20000', '6/14/2022'),\n",
       " ('14,782.80000', '6/13/2022'),\n",
       " ('14,614.95000', '6/10/2022'),\n",
       " ('14,611.85000', '6/9/2022'),\n",
       " ('14,513.20000', '6/8/2022'),\n",
       " ('14,465.30000', '6/7/2022'),\n",
       " ('14,437.70000', '6/6/2022'),\n",
       " ('14,433.50000', '6/3/2022'),\n",
       " ('14,435.00000', '6/2/2022'),\n",
       " ('14,555.60000', '6/1/2022'),\n",
       " ('14,580.63428', '5/31/2022'),\n",
       " ('14,538.55000', '5/30/2022'),\n",
       " ('14,539.40000', '5/27/2022'),\n",
       " ('14,610.10000', '5/26/2022'),\n",
       " ('14,632.75000', '5/25/2022'),\n",
       " ('14,635.75000', '5/24/2022'),\n",
       " ('14,625.70000', '5/23/2022'),\n",
       " ('14,672.44395', '5/20/2022'),\n",
       " ('14,632.60000', '5/19/2022'),\n",
       " ('14,740.05000', '5/18/2022'),\n",
       " ('14,630.65000', '5/17/2022'),\n",
       " ('14,647.20000', '5/16/2022'),\n",
       " ('14,665.95000', '5/13/2022'),\n",
       " ('14,667.00000', '5/12/2022'),\n",
       " ('14,545.90000', '5/11/2022'),\n",
       " ('14,526.40000', '5/10/2022'),\n",
       " ('14,552.25000', '5/9/2022'),\n",
       " ('14,498.65000', '5/6/2022'),\n",
       " ('14,458.75000', '5/5/2022'),\n",
       " ('14,430.00000', '5/4/2022'),\n",
       " ('14,455.80000', '5/3/2022'),\n",
       " ('14,526.60000', '5/2/2022'),\n",
       " ('14,525.10000', '4/29/2022'),\n",
       " ('14,516.00000', '4/28/2022'),\n",
       " ('14,447.55000', '4/27/2022'),\n",
       " ('14,432.50000', '4/26/2022'),\n",
       " ('14,426.50000', '4/25/2022'),\n",
       " ('14,470.00000', '4/22/2022'),\n",
       " ('14,386.00000', '4/21/2022'),\n",
       " ('14,364.00000', '4/20/2022'),\n",
       " ('14,375.50000', '4/19/2022'),\n",
       " ('14,353.85000', '4/18/2022'),\n",
       " ('14,366.76704', '4/15/2022'),\n",
       " ('14,383.95000', '4/14/2022'),\n",
       " ('14,372.00000', '4/13/2022'),\n",
       " ('14,376.50000', '4/12/2022'),\n",
       " ('14,373.00000', '4/11/2022'),\n",
       " ('14,370.65000', '4/8/2022'),\n",
       " ('14,374.45000', '4/7/2022'),\n",
       " ('14,380.95000', '4/6/2022'),\n",
       " ('14,368.50000', '4/5/2022'),\n",
       " ('14,328.90000', '4/4/2022')]"
      ]
     },
     "execution_count": 9,
     "metadata": {},
     "output_type": "execute_result"
    }
   ],
   "source": [
    "temp = [] #initiating a tuple\n",
    "\n",
    "for i in range(1, row_length):\n",
    "\n",
    "    #scrapping process\n",
    "    DayPrice=row[i].find('a').text\n",
    "    Period=row[i].find('td').text\n",
    "    temp.append((DayPrice,Period))\n",
    "temp "
   ]
  },
  {
   "cell_type": "markdown",
   "metadata": {},
   "source": [
    "## Creating data frame & Data wrangling"
   ]
  },
  {
   "cell_type": "markdown",
   "metadata": {},
   "source": [
    "Put the array into dataframe"
   ]
  },
  {
   "cell_type": "code",
   "execution_count": 10,
   "metadata": {
    "ExecuteTime": {
     "end_time": "2020-01-13T05:12:41.517372Z",
     "start_time": "2020-01-13T05:12:29.130015Z"
    }
   },
   "outputs": [
    {
     "data": {
      "text/html": [
       "<div>\n",
       "<style scoped>\n",
       "    .dataframe tbody tr th:only-of-type {\n",
       "        vertical-align: middle;\n",
       "    }\n",
       "\n",
       "    .dataframe tbody tr th {\n",
       "        vertical-align: top;\n",
       "    }\n",
       "\n",
       "    .dataframe thead th {\n",
       "        text-align: right;\n",
       "    }\n",
       "</style>\n",
       "<table border=\"1\" class=\"dataframe\">\n",
       "  <thead>\n",
       "    <tr style=\"text-align: right;\">\n",
       "      <th></th>\n",
       "      <th>harga harian</th>\n",
       "      <th>tanggal</th>\n",
       "    </tr>\n",
       "  </thead>\n",
       "  <tbody>\n",
       "    <tr>\n",
       "      <th>0</th>\n",
       "      <td>15,187.20000</td>\n",
       "      <td>9/29/2022</td>\n",
       "    </tr>\n",
       "    <tr>\n",
       "      <th>1</th>\n",
       "      <td>15,175.25000</td>\n",
       "      <td>9/28/2022</td>\n",
       "    </tr>\n",
       "    <tr>\n",
       "      <th>2</th>\n",
       "      <td>15,171.70000</td>\n",
       "      <td>9/27/2022</td>\n",
       "    </tr>\n",
       "    <tr>\n",
       "      <th>3</th>\n",
       "      <td>15,190.70000</td>\n",
       "      <td>9/26/2022</td>\n",
       "    </tr>\n",
       "    <tr>\n",
       "      <th>4</th>\n",
       "      <td>15,112.36165</td>\n",
       "      <td>9/23/2022</td>\n",
       "    </tr>\n",
       "  </tbody>\n",
       "</table>\n",
       "</div>"
      ],
      "text/plain": [
       "   harga harian    tanggal\n",
       "0  15,187.20000  9/29/2022\n",
       "1  15,175.25000  9/28/2022\n",
       "2  15,171.70000  9/27/2022\n",
       "3  15,190.70000  9/26/2022\n",
       "4  15,112.36165  9/23/2022"
      ]
     },
     "execution_count": 10,
     "metadata": {},
     "output_type": "execute_result"
    }
   ],
   "source": [
    "import pandas as pd\n",
    "\n",
    "data = pd.DataFrame(temp,columns=('harga harian','tanggal'))\n",
    "data.head()"
   ]
  },
  {
   "cell_type": "markdown",
   "metadata": {},
   "source": [
    "Do the data cleaning here (please change this markdown with your explanation of what you do for data wrangling)"
   ]
  },
  {
   "cell_type": "code",
   "execution_count": 11,
   "metadata": {
    "ExecuteTime": {
     "end_time": "2020-01-13T05:12:59.165559Z",
     "start_time": "2020-01-13T05:12:58.910012Z"
    }
   },
   "outputs": [
    {
     "data": {
      "text/html": [
       "<div>\n",
       "<style scoped>\n",
       "    .dataframe tbody tr th:only-of-type {\n",
       "        vertical-align: middle;\n",
       "    }\n",
       "\n",
       "    .dataframe tbody tr th {\n",
       "        vertical-align: top;\n",
       "    }\n",
       "\n",
       "    .dataframe thead th {\n",
       "        text-align: right;\n",
       "    }\n",
       "</style>\n",
       "<table border=\"1\" class=\"dataframe\">\n",
       "  <thead>\n",
       "    <tr style=\"text-align: right;\">\n",
       "      <th></th>\n",
       "      <th>harga harian</th>\n",
       "      <th>tanggal</th>\n",
       "    </tr>\n",
       "  </thead>\n",
       "  <tbody>\n",
       "    <tr>\n",
       "      <th>0</th>\n",
       "      <td>15187.20000</td>\n",
       "      <td>9/29/2022</td>\n",
       "    </tr>\n",
       "    <tr>\n",
       "      <th>1</th>\n",
       "      <td>15175.25000</td>\n",
       "      <td>9/28/2022</td>\n",
       "    </tr>\n",
       "    <tr>\n",
       "      <th>2</th>\n",
       "      <td>15171.70000</td>\n",
       "      <td>9/27/2022</td>\n",
       "    </tr>\n",
       "    <tr>\n",
       "      <th>3</th>\n",
       "      <td>15190.70000</td>\n",
       "      <td>9/26/2022</td>\n",
       "    </tr>\n",
       "    <tr>\n",
       "      <th>4</th>\n",
       "      <td>15112.36165</td>\n",
       "      <td>9/23/2022</td>\n",
       "    </tr>\n",
       "  </tbody>\n",
       "</table>\n",
       "</div>"
      ],
      "text/plain": [
       "  harga harian    tanggal\n",
       "0  15187.20000  9/29/2022\n",
       "1  15175.25000  9/28/2022\n",
       "2  15171.70000  9/27/2022\n",
       "3  15190.70000  9/26/2022\n",
       "4  15112.36165  9/23/2022"
      ]
     },
     "execution_count": 11,
     "metadata": {},
     "output_type": "execute_result"
    }
   ],
   "source": [
    "data['harga harian'] = data['harga harian'].apply(lambda x: x.replace(',',''))\n",
    "data.head()\n"
   ]
  },
  {
   "cell_type": "code",
   "execution_count": 12,
   "metadata": {},
   "outputs": [
    {
     "data": {
      "text/plain": [
       "harga harian           float64\n",
       "tanggal         datetime64[ns]\n",
       "dtype: object"
      ]
     },
     "execution_count": 12,
     "metadata": {},
     "output_type": "execute_result"
    }
   ],
   "source": [
    "#rubah type data sesuai dengan data\n",
    "data['harga harian']=data['harga harian'].astype('float64')\n",
    "data['tanggal']=data['tanggal'].astype('datetime64')\n",
    "data.dtypes"
   ]
  },
  {
   "cell_type": "markdown",
   "metadata": {},
   "source": [
    "Data visualisation (please change this markdown with your explanation of what you do for data wrangling)"
   ]
  },
  {
   "cell_type": "code",
   "execution_count": 13,
   "metadata": {},
   "outputs": [
    {
     "data": {
      "image/png": "[encoded data removed]",
      "text/plain": [
       "<Figure size 640x480 with 1 Axes>"
      ]
     },
     "metadata": {},
     "output_type": "display_data"
    }
   ],
   "source": [
    "data.plot(x='tanggal',y='harga harian')\n",
    "plt.xlabel(\"Tanggal\", labelpad=15)\n",
    "plt.ylabel(\"Nilai Tukar\", labelpad=15)\n",
    "plt.title(\"Pergerakan Nilai Tukar USD\", y=1.02, fontsize=22);"
   ]
  },
  {
   "cell_type": "markdown",
   "metadata": {},
   "source": [
    "### Implementing your webscrapping to the flask dashboard\n",
    "\n",
    "- Copy paste all of your web scrapping process to the desired position on the `app.py`\n",
    "- Changing the title of the dasboard at `index.html`"
   ]
  },
  {
   "cell_type": "markdown",
   "metadata": {},
   "source": [
    "## Finishing This Notebook with Your Analysis and Conclusion\n",
    "\n",
    "First you can do start with making the data visualisation. "
   ]
  },
  {
   "cell_type": "code",
   "execution_count": 14,
   "metadata": {
    "ExecuteTime": {
     "end_time": "2020-01-13T05:20:56.208237Z",
     "start_time": "2020-01-13T05:20:56.076043Z"
    }
   },
   "outputs": [
    {
     "data": {
      "image/png": "[encoded data removed]",
      "text/plain": [
       "<Figure size 640x480 with 1 Axes>"
      ]
     },
     "metadata": {},
     "output_type": "display_data"
    }
   ],
   "source": [
    "data.plot(x='tanggal',y='harga harian')\n",
    "plt.xlabel(\"Tanggal\", labelpad=15)\n",
    "plt.ylabel(\"Nilai Tukar\", labelpad=15)\n",
    "plt.title(\"Nilai Tukar USD to IDR\", y=1.02, fontsize=22)\n",
    "plt.savefig(\"usd_trend.png\")"
   ]
  },
  {
   "cell_type": "markdown",
   "metadata": {},
   "source": [
    "\n",
    "(Put your analysis and conclusion here.)"
   ]
  },
  {
   "cell_type": "markdown",
   "metadata": {},
   "source": [
    "### Extra Challange\n",
    "\n",
    "This will be not included to the scoring. \n",
    "\n",
    "- You can create additional analysis from the data.\n",
    "- Implement it to the dashboard with at `app.py` dan `index.html`."
   ]
  }
 ],
 "metadata": {
  "kernelspec": {
   "display_name": "scraping",
   "language": "python",
   "name": "scraping"
  },
  "language_info": {
   "codemirror_mode": {
    "name": "ipython",
    "version": 3
   },
   "file_extension": ".py",
   "mimetype": "text/x-python",
   "name": "python",
   "nbconvert_exporter": "python",
   "pygments_lexer": "ipython3",
   "version": "3.8.13"
  }
 },
 "nbformat": 4,
 "nbformat_minor": 2
}
